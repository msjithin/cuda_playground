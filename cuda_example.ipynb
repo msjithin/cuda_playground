{
 "cells": [
  {
   "cell_type": "markdown",
   "metadata": {},
   "source": [
    "Source   \n",
    "https://github.com/rapidsai/cuml"
   ]
  },
  {
   "cell_type": "code",
   "execution_count": 1,
   "metadata": {},
   "outputs": [
    {
     "name": "stdout",
     "output_type": "stream",
     "text": [
      "0.59.1\n",
      "\n"
     ]
    }
   ],
   "source": [
    "import numba\n",
    "\n",
    "print(numba.__version__)\n",
    "print()\n",
    "\n"
   ]
  },
  {
   "cell_type": "code",
   "execution_count": 2,
   "metadata": {},
   "outputs": [
    {
     "name": "stdout",
     "output_type": "stream",
     "text": [
      "Finding driver from candidates:\n",
      "\t/usr/lib/wsl/lib/libcuda.so.1\n",
      "Using loader <class 'ctypes.CDLL'>\n",
      "\tTrying to load driver...\tok\n",
      "\t\tLoaded from /usr/lib/wsl/lib/libcuda.so.1\n",
      "\tMapped libcuda.so paths:\n",
      "\t\t/usr/lib/wsl/lib/libcuda.so.1\n",
      "Finding nvvm from System\n",
      "\tLocated at /usr/local/cuda/nvvm/lib64/libnvvm.so.4.0.0\n",
      "\tTrying to open library...\tok\n",
      "Finding nvrtc from System\n",
      "\tLocated at /usr/local/cuda/lib64/libnvrtc.so.12.4.127\n",
      "\tTrying to open library...\tok\n",
      "Finding cudart from System\n",
      "\tLocated at /usr/local/cuda/lib64/libcudart.so.12.4.127\n",
      "\tTrying to open library...\tok\n",
      "Finding cudadevrt from System\n",
      "\tLocated at /usr/local/cuda/lib64/libcudadevrt.a\n",
      "\tChecking library...\tok\n",
      "Finding libdevice from System\n",
      "\tLocated at /usr/local/cuda/nvvm/libdevice/libdevice.10.bc\n",
      "\tChecking library...\tok\n",
      "Found 1 CUDA devices\n",
      "id 0    b'NVIDIA GeForce GTX 1650'                              [SUPPORTED]\n",
      "                      Compute Capability: 7.5\n",
      "                           PCI Device ID: 0\n",
      "                              PCI Bus ID: 1\n",
      "                                    UUID: GPU-740b3a2e-e099-5aa5-797a-d293736639bf\n",
      "                                Watchdog: Enabled\n",
      "             FP32/FP64 Performance Ratio: 32\n",
      "Summary:\n",
      "\t1/1 devices are supported\n",
      "\n"
     ]
    }
   ],
   "source": [
    "from numba import cuda\n",
    "\n",
    "cuda.cudadrv.libs.test()\n",
    "cuda.detect()\n",
    "print()"
   ]
  },
  {
   "cell_type": "code",
   "execution_count": 3,
   "metadata": {},
   "outputs": [
    {
     "name": "stdout",
     "output_type": "stream",
     "text": [
      "0    0\n",
      "1    1\n",
      "2    2\n",
      "dtype: int32\n"
     ]
    }
   ],
   "source": [
    "import cudf\n",
    "from cuml.cluster import DBSCAN\n",
    "\n",
    "# Create and populate a GPU DataFrame\n",
    "gdf_float = cudf.DataFrame()\n",
    "gdf_float['0'] = [1.0, 2.0, 5.0]\n",
    "gdf_float['1'] = [4.0, 2.0, 1.0]\n",
    "gdf_float['2'] = [4.0, 2.0, 1.0]\n",
    "\n",
    "# Setup and fit clusters\n",
    "dbscan_float = DBSCAN(eps=1.0, min_samples=1)\n",
    "dbscan_float.fit(gdf_float)\n",
    "\n",
    "print(dbscan_float.labels_)"
   ]
  },
  {
   "cell_type": "code",
   "execution_count": null,
   "metadata": {},
   "outputs": [],
   "source": []
  }
 ],
 "metadata": {
  "kernelspec": {
   "display_name": "cuda-gpt",
   "language": "python",
   "name": "cuda"
  },
  "language_info": {
   "codemirror_mode": {
    "name": "ipython",
    "version": 3
   },
   "file_extension": ".py",
   "mimetype": "text/x-python",
   "name": "python",
   "nbconvert_exporter": "python",
   "pygments_lexer": "ipython3",
   "version": "3.10.12"
  }
 },
 "nbformat": 4,
 "nbformat_minor": 4
}
